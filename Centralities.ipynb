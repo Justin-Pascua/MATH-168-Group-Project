{
  "nbformat": 4,
  "nbformat_minor": 0,
  "metadata": {
    "colab": {
      "provenance": []
    },
    "kernelspec": {
      "name": "python3",
      "display_name": "Python 3"
    },
    "language_info": {
      "name": "python"
    }
  },
  "cells": [
    {
      "cell_type": "code",
      "execution_count": 1,
      "metadata": {
        "id": "K6sF20eqBKuN"
      },
      "outputs": [],
      "source": [
        "import pandas as pd\n",
        "import networkx as nx\n",
        "from networkx.algorithms import bipartite\n",
        "import matplotlib.pyplot as plt\n",
        "import seaborn as sns\n",
        "from community import community_louvain\n",
        "from scipy.cluster.hierarchy import linkage, dendrogram\n",
        "from collections import Counter"
      ]
    },
    {
      "cell_type": "code",
      "source": [
        "#Plots (with Feedback)\n",
        "sns.set_style(\"whitegrid\") #style\n",
        "\n",
        "#fonts\n",
        "plt.rcParams['font.size'] = 12\n",
        "plt.rcParams['axes.titlesize'] = 18\n",
        "plt.rcParams['axes.labelsize'] = 14\n",
        "plt.rcParams['xtick.labelsize'] = 10\n",
        "plt.rcParams['ytick.labelsize'] = 10\n",
        "#feedback\n",
        "HISTOGRAM_BINS = 25\n"
      ],
      "metadata": {
        "id": "vIYG3PBJBRH-"
      },
      "execution_count": 2,
      "outputs": []
    },
    {
      "cell_type": "code",
      "source": [
        "# import data\n",
        "df = pd.read_csv('https://raw.githubusercontent.com/Justin-Pascua/MATH-168-Group-Project/refs/heads/main/full_opensecrets_data.csv')\n",
        "party_map = df.set_index('Senator')['Party'].to_dict()"
      ],
      "metadata": {
        "id": "45nwmyblBZqM"
      },
      "execution_count": 6,
      "outputs": []
    },
    {
      "cell_type": "code",
      "source": [
        "#Bipartite Graph\n",
        "print(\"\\n Building Bipartite Graph \")\n",
        "B = nx.Graph()\n",
        "senator_nodes = df['Senator'].unique()\n",
        "organization_nodes = df['Organization'].unique()\n",
        "B.add_nodes_from(senator_nodes, bipartite='senator')\n",
        "B.add_nodes_from(organization_nodes, bipartite='organization')\n",
        "edges = [tuple(x) for x in df[['Senator', 'Organization']].to_numpy()]\n",
        "B.add_edges_from(edges)\n",
        "print(\"Bipartite graph created.\")"
      ],
      "metadata": {
        "colab": {
          "base_uri": "https://localhost:8080/"
        },
        "id": "wgZsVWe3Bjh1",
        "outputId": "6ff20bc3-4871-4312-b8cc-836825a81594"
      },
      "execution_count": 8,
      "outputs": [
        {
          "output_type": "stream",
          "name": "stdout",
          "text": [
            "\n",
            " Building Bipartite Graph \n",
            "Bipartite graph created.\n"
          ]
        }
      ]
    },
    {
      "cell_type": "markdown",
      "source": [
        "# **Bipartite Graph Centrality Analysis**"
      ],
      "metadata": {
        "id": "7G0dgMX7CL8s"
      }
    },
    {
      "cell_type": "code",
      "source": [
        "#Bipartite Graph Centrality analysis\n",
        "print(\"\\nCalculating Bipartite Graph Centrality Measures\")\n",
        "\n",
        "# Bipartite Degree Centrality\n",
        "bipartite_degree = bipartite.degree_centrality(B, senator_nodes)\n",
        "bipartite_degree.update(bipartite.degree_centrality(B, organization_nodes))\n",
        "\n",
        "# Bipartite Betweenness Centrality\n",
        "bipartite_betweenness = bipartite.betweenness_centrality(B, senator_nodes)\n",
        "bipartite_betweenness.update(bipartite.betweenness_centrality(B, organization_nodes))\n",
        "\n",
        "bipartite_df = pd.DataFrame({\n",
        "    'Node': list(bipartite_degree.keys()),\n",
        "    'Degree': list(bipartite_degree.values()),\n",
        "    'Betweenness': list(bipartite_betweenness.values()),\n",
        "})\n",
        "bipartite_df['Type'] = bipartite_df['Node'].apply(lambda x: 'Senator' if x in senator_nodes else 'Organization')\n"
      ],
      "metadata": {
        "colab": {
          "base_uri": "https://localhost:8080/"
        },
        "id": "kPPC8Hf3B-08",
        "outputId": "3691d1ad-f22e-4bca-e3d6-4a84796de66a"
      },
      "execution_count": 9,
      "outputs": [
        {
          "output_type": "stream",
          "name": "stdout",
          "text": [
            "\n",
            "Calculating Bipartite Graph Centrality Measures\n"
          ]
        }
      ]
    },
    {
      "cell_type": "code",
      "source": [
        "print(\"\\nTop 5 Nodes by Bipartite Centrality\")\n",
        "print(\"\\n[Bipartite Degree Centrality]\")\n",
        "print(bipartite_df.sort_values(by='Degree', ascending=False).head())\n",
        "print(\"\\n[Bipartite Betweenness Centrality]\")\n",
        "print(bipartite_df.sort_values(by='Betweenness', ascending=False).head())"
      ],
      "metadata": {
        "colab": {
          "base_uri": "https://localhost:8080/"
        },
        "id": "0PhNJ6eqCBWM",
        "outputId": "301752b4-ea6e-4a11-967a-1ad2a0cdb422"
      },
      "execution_count": 10,
      "outputs": [
        {
          "output_type": "stream",
          "name": "stdout",
          "text": [
            "\n",
            "Top 5 Nodes by Bipartite Centrality\n",
            "\n",
            "[Bipartite Degree Centrality]\n",
            "                           Node  Degree  Betweenness          Type\n",
            "1416               Comcast Corp    0.90     0.000000  Organization\n",
            "1727                   AT&T Inc    0.80     0.000000  Organization\n",
            "505                Deloitte LLP    0.73     0.000000  Organization\n",
            "1486    Honeywell International    0.73     0.000033  Organization\n",
            "434   National Assn of Realtors    0.69     0.000000  Organization\n",
            "\n",
            "[Bipartite Betweenness Centrality]\n",
            "                     Node    Degree  Betweenness          Type\n",
            "134  Action Safety Supply  0.010000     0.062251  Organization\n",
            "117    Deeley, King et al  0.010000     0.047792  Organization\n",
            "46             Casey, Bob  0.031746     0.042996       Senator\n",
            "92        Graham, Lindsey  0.031746     0.041976       Senator\n",
            "67             Kaine, Tim  0.031746     0.040766       Senator\n"
          ]
        }
      ]
    },
    {
      "cell_type": "code",
      "source": [
        "# Plot 1: Bipartite Degree\n",
        "plt.figure(figsize=(10, 6))\n",
        "sns.histplot(data=bipartite_df[bipartite_df['Type']=='Senator'], x='Degree', bins=HISTOGRAM_BINS)\n",
        "plt.title('Bipartite Degree Distribution (Senators)')\n",
        "plt.xlabel('Degree Centrality in Bipartite Graph')\n",
        "plt.ylabel('Number of Senators')\n",
        "plt.savefig('bipartite_senator_degree.png', dpi=300, bbox_inches='tight')\n",
        "plt.close()\n",
        "print(\"Saved 'bipartite_senator_degree.png'\")\n",
        "\n",
        "plt.figure(figsize=(10, 6))\n",
        "sns.histplot(data=bipartite_df[bipartite_df['Type']=='Organization'], x='Degree', bins=HISTOGRAM_BINS)\n",
        "plt.title('Bipartite Degree Distribution (Organizations)')\n",
        "plt.xlabel('Degree Centrality in Bipartite Graph')\n",
        "plt.ylabel('Number of Organizations')\n",
        "plt.savefig('bipartite_organization_degree.png', dpi=300, bbox_inches='tight')\n",
        "plt.close()\n",
        "print(\"Saved 'bipartite_organization_degree.png'\")\n"
      ],
      "metadata": {
        "colab": {
          "base_uri": "https://localhost:8080/"
        },
        "id": "_dN9ioUICFoV",
        "outputId": "af229993-6dda-453c-ee77-9903f117c61b"
      },
      "execution_count": 11,
      "outputs": [
        {
          "output_type": "stream",
          "name": "stdout",
          "text": [
            "Saved 'bipartite_senator_degree.png'\n",
            "Saved 'bipartite_organization_degree.png'\n"
          ]
        }
      ]
    },
    {
      "cell_type": "code",
      "source": [
        "# Plot 2: Bipartite Betweenness\n",
        "plt.figure(figsize=(10, 6))\n",
        "sns.histplot(data=bipartite_df[bipartite_df['Type']=='Senator'], x='Betweenness', bins=HISTOGRAM_BINS)\n",
        "plt.title('Bipartite Betweenness Distribution (Senators)')\n",
        "plt.xlabel('Betweenness Centrality in Bipartite Graph')\n",
        "plt.ylabel('Number of Senators')\n",
        "plt.savefig('bipartite_senator_betweenness.png', dpi=300, bbox_inches='tight')\n",
        "plt.close()\n",
        "print(\"Saved 'bipartite_senator_betweenness.png'\")\n",
        "\n",
        "plt.figure(figsize=(10, 6))\n",
        "sns.histplot(data=bipartite_df[bipartite_df['Type']=='Organization'], x='Betweenness', bins=HISTOGRAM_BINS)\n",
        "plt.title('Bipartite Betweenness Distribution (Organizations)')\n",
        "plt.xlabel('Betweenness Centrality in Bipartite Graph')\n",
        "plt.ylabel('Number of Organizations')\n",
        "plt.savefig('bipartite_organization_betweenness.png', dpi=300, bbox_inches='tight')\n",
        "plt.close()\n",
        "print(\"Saved 'bipartite_organization_betweenness.png'\")\n"
      ],
      "metadata": {
        "colab": {
          "base_uri": "https://localhost:8080/"
        },
        "id": "Hj7C-ytcCIKW",
        "outputId": "b850bd17-54ec-46e2-9e54-c14c3df67560"
      },
      "execution_count": 12,
      "outputs": [
        {
          "output_type": "stream",
          "name": "stdout",
          "text": [
            "Saved 'bipartite_senator_betweenness.png'\n",
            "Saved 'bipartite_organization_betweenness.png'\n"
          ]
        }
      ]
    },
    {
      "cell_type": "markdown",
      "source": [
        "# **Senator Projection Centrality Analysis**"
      ],
      "metadata": {
        "id": "k9eQ6aIsCRNi"
      }
    },
    {
      "cell_type": "code",
      "source": [
        "#Senator Projection create and centrality Analysis\n",
        "print(\"\\n Analyzing the Senator-Senator Projection \")\n",
        "senator_graph = nx.bipartite.weighted_projected_graph(B, senator_nodes)\n",
        "print(\"Senator projection created.\")\n",
        "\n",
        "print(\"\\n Calculating Senator Projection Centrality Measures \")\n",
        "degree_centrality = nx.degree_centrality(senator_graph)\n",
        "betweenness_centrality = nx.betweenness_centrality(senator_graph)\n",
        "eigenvector_centrality = nx.eigenvector_centrality(senator_graph, max_iter=1000)\n",
        "\n",
        "centrality_df = pd.DataFrame({\n",
        "    'Senator': list(degree_centrality.keys()),\n",
        "    'Degree': list(degree_centrality.values()),\n",
        "    'Betweenness': list(betweenness_centrality.values()),\n",
        "    'Eigenvector': list(eigenvector_centrality.values())\n",
        "})\n"
      ],
      "metadata": {
        "colab": {
          "base_uri": "https://localhost:8080/"
        },
        "id": "XhqRpKYgCKsd",
        "outputId": "0bef41fd-4d2f-4a1f-81cb-caf368c28699"
      },
      "execution_count": 13,
      "outputs": [
        {
          "output_type": "stream",
          "name": "stdout",
          "text": [
            "\n",
            " Analyzing the Senator-Senator Projection \n",
            "Senator projection created.\n",
            "\n",
            " Calculating Senator Projection Centrality Measures \n"
          ]
        }
      ]
    },
    {
      "cell_type": "code",
      "source": [
        "print(\"\\n Top 5 Senators by Projection Centrality \")\n",
        "print(\"\\n[Degree Centrality (Most connected via shared donors)]\")\n",
        "print(centrality_df.sort_values(by='Degree', ascending=False).head())\n",
        "print(\"\\n[Betweenness Centrality (Key 'bridges' in the network)]\")\n",
        "print(centrality_df.sort_values(by='Betweenness', ascending=False).head())\n",
        "print(\"\\n[Eigenvector Centrality (Connected to other influential senators)]\")\n",
        "print(centrality_df.sort_values(by='Eigenvector', ascending=False).head())\n"
      ],
      "metadata": {
        "colab": {
          "base_uri": "https://localhost:8080/"
        },
        "id": "us3UC_y8ChJt",
        "outputId": "a2b74bb0-fd56-4ecd-ac7d-ebfbce9b283f"
      },
      "execution_count": 14,
      "outputs": [
        {
          "output_type": "stream",
          "name": "stdout",
          "text": [
            "\n",
            " Top 5 Senators by Projection Centrality \n",
            "\n",
            "[Degree Centrality (Most connected via shared donors)]\n",
            "              Senator  Degree  Betweenness  Eigenvector\n",
            "1    Barrasso, John A     1.0     0.000028     0.100222\n",
            "2     Bennet, Michael     1.0     0.000028     0.100222\n",
            "3   Blackburn, Marsha     1.0     0.000028     0.100222\n",
            "5          Blunt, Roy     1.0     0.000028     0.100222\n",
            "28  Feinstein, Dianne     1.0     0.000028     0.100222\n",
            "\n",
            "[Betweenness Centrality (Key 'bridges' in the network)]\n",
            "              Senator  Degree  Betweenness  Eigenvector\n",
            "1    Barrasso, John A     1.0     0.000028     0.100222\n",
            "2     Bennet, Michael     1.0     0.000028     0.100222\n",
            "3   Blackburn, Marsha     1.0     0.000028     0.100222\n",
            "5          Blunt, Roy     1.0     0.000028     0.100222\n",
            "28  Feinstein, Dianne     1.0     0.000028     0.100222\n",
            "\n",
            "[Eigenvector Centrality (Connected to other influential senators)]\n",
            "              Senator  Degree  Betweenness  Eigenvector\n",
            "1    Barrasso, John A     1.0     0.000028     0.100222\n",
            "2     Bennet, Michael     1.0     0.000028     0.100222\n",
            "3   Blackburn, Marsha     1.0     0.000028     0.100222\n",
            "5          Blunt, Roy     1.0     0.000028     0.100222\n",
            "28  Feinstein, Dianne     1.0     0.000028     0.100222\n"
          ]
        }
      ]
    },
    {
      "cell_type": "code",
      "source": [
        "# for saving files\n",
        "print(\"\\n Generating and Saving Senator Projection Centrality Plots \")\n",
        "\n",
        "plt.figure(figsize=(10, 6))\n",
        "sns.histplot(data=centrality_df, x='Degree', bins=HISTOGRAM_BINS)\n",
        "plt.title('Distribution of Senator Degree Centrality (Projection)')\n",
        "plt.xlabel('Degree Centrality in Senator Projection')\n",
        "plt.ylabel('Number of Senators')\n",
        "plt.savefig('projection_senator_degree.png', dpi=300, bbox_inches='tight')\n",
        "plt.close()\n",
        "print(\"Saved 'projection_senator_degree.png'\")\n",
        "\n",
        "plt.figure(figsize=(10, 6))\n",
        "sns.histplot(data=centrality_df, x='Betweenness', bins=HISTOGRAM_BINS)\n",
        "plt.title('Distribution of Senator Betweenness Centrality (Projection)')\n",
        "plt.xlabel('Betweenness Centrality in Senator Projection')\n",
        "plt.ylabel('Number of Senators')\n",
        "plt.savefig('projection_senator_betweenness.png', dpi=300, bbox_inches='tight')\n",
        "plt.close()\n",
        "print(\"Saved 'projection_senator_betweenness.png'\")\n",
        "\n",
        "plt.figure(figsize=(10, 6))\n",
        "sns.histplot(data=centrality_df, x='Eigenvector', bins=HISTOGRAM_BINS)\n",
        "plt.title('Distribution of Senator Eigenvector Centrality (Projection)')\n",
        "plt.xlabel('Eigenvector Centrality in Senator Projection')\n",
        "plt.ylabel('Number of Senators')\n",
        "plt.savefig('projection_senator_eigenvector.png', dpi=300, bbox_inches='tight')\n",
        "plt.close()\n",
        "print(\"Saved 'projection_senator_eigenvector.png'\")\n"
      ],
      "metadata": {
        "colab": {
          "base_uri": "https://localhost:8080/"
        },
        "id": "UWZVKAMcCi28",
        "outputId": "122e7089-126e-49d5-9684-e667ffade909"
      },
      "execution_count": 15,
      "outputs": [
        {
          "output_type": "stream",
          "name": "stdout",
          "text": [
            "\n",
            " Generating and Saving Senator Projection Centrality Plots \n",
            "Saved 'projection_senator_degree.png'\n",
            "Saved 'projection_senator_betweenness.png'\n",
            "Saved 'projection_senator_eigenvector.png'\n"
          ]
        }
      ]
    },
    {
      "cell_type": "markdown",
      "source": [
        "# **Donor Projection Centrality Analysis**"
      ],
      "metadata": {
        "id": "IQkMguPdCw-r"
      }
    },
    {
      "cell_type": "code",
      "source": [
        "print(\"\\n Analyzing the Donor-Donor Projection \")\n",
        "donor_graph = nx.bipartite.weighted_projected_graph(B, organization_nodes)\n",
        "print(\"Donor projection created.\")\n",
        "\n",
        "print(\"\\n Calculating Donor Projection Centrality Measures \")\n",
        "donor_degree_centrality = nx.degree_centrality(donor_graph)\n",
        "donor_betweenness_centrality = nx.betweenness_centrality(donor_graph)\n",
        "\n",
        "donor_centrality_df = pd.DataFrame({\n",
        "    'Organization': list(donor_degree_centrality.keys()),\n",
        "    'Degree': list(donor_degree_centrality.values()),\n",
        "    'Betweenness': list(donor_betweenness_centrality.values()),\n",
        "})\n"
      ],
      "metadata": {
        "colab": {
          "base_uri": "https://localhost:8080/"
        },
        "id": "ZgYL9iutC1AM",
        "outputId": "01596c80-e1e9-4fda-d859-09daf79e06c8"
      },
      "execution_count": 16,
      "outputs": [
        {
          "output_type": "stream",
          "name": "stdout",
          "text": [
            "\n",
            " Analyzing the Donor-Donor Projection \n",
            "Donor projection created.\n",
            "\n",
            " Calculating Donor Projection Centrality Measures \n"
          ]
        }
      ]
    },
    {
      "cell_type": "code",
      "source": [
        "print(\"\\n Top 5 Donors by Projection Centrality \")\n",
        "print(\"\\n[Degree Centrality (Donors funding the most interconnected senators)]\")\n",
        "print(donor_centrality_df.sort_values(by='Degree', ascending=False).head())\n",
        "print(\"\\n[Betweenness Centrality (Donors bridging different senator groups)]\")\n",
        "print(donor_centrality_df.sort_values(by='Betweenness', ascending=False).head())\n"
      ],
      "metadata": {
        "colab": {
          "base_uri": "https://localhost:8080/"
        },
        "id": "pi3tLhXgC5ED",
        "outputId": "fc74d9a6-c128-4134-d3c7-e356f18a11db"
      },
      "execution_count": 17,
      "outputs": [
        {
          "output_type": "stream",
          "name": "stdout",
          "text": [
            "\n",
            " Top 5 Donors by Projection Centrality \n",
            "\n",
            "[Degree Centrality (Donors funding the most interconnected senators)]\n",
            "                  Organization    Degree  Betweenness\n",
            "34                Comcast Corp  0.888536     0.046637\n",
            "17                    AT&T Inc  0.827247     0.037356\n",
            "232               Deloitte LLP  0.754208     0.028742\n",
            "92   National Assn of Realtors  0.716418     0.026848\n",
            "106         Berkshire Hathaway  0.709114     0.027426\n",
            "\n",
            "[Betweenness Centrality (Donors bridging different senator groups)]\n",
            "                  Organization    Degree  Betweenness\n",
            "34                Comcast Corp  0.888536     0.046637\n",
            "17                    AT&T Inc  0.827247     0.037356\n",
            "232               Deloitte LLP  0.754208     0.028742\n",
            "106         Berkshire Hathaway  0.709114     0.027426\n",
            "92   National Assn of Realtors  0.716418     0.026848\n"
          ]
        }
      ]
    },
    {
      "cell_type": "code",
      "source": [
        "print(\"\\n Generating and Saving Donor Projection Centrality Plots \")\n",
        "plt.figure(figsize=(10, 6))\n",
        "sns.histplot(data=donor_centrality_df, x='Degree', bins=HISTOGRAM_BINS)\n",
        "plt.title(\"Distribution of Donor Degree Centrality (Projection)\")\n",
        "plt.xlabel('Degree Centrality in Donor Projection')\n",
        "plt.ylabel('Number of Donors')\n",
        "plt.savefig('projection_donor_degree.png', dpi=300, bbox_inches='tight')\n",
        "plt.close()\n",
        "print(\"Saved 'projection_donor_degree.png'\")\n",
        "\n",
        "plt.figure(figsize=(10, 6))\n",
        "sns.histplot(data=donor_centrality_df, x='Betweenness', bins=HISTOGRAM_BINS)\n",
        "plt.title(\"Distribution of Donor Betweenness Centrality (Projection)\")\n",
        "plt.xlabel('Betweenness Centrality in Donor Projection')\n",
        "plt.ylabel('Number of Donors')\n",
        "plt.savefig('projection_donor_betweenness.png', dpi=300, bbox_inches='tight')\n",
        "plt.close()\n",
        "print(\"Saved 'projection_donor_betweenness.png'\")\n",
        "\n",
        "\n",
        "print(\"\\n Analysis Complete \")\n"
      ],
      "metadata": {
        "colab": {
          "base_uri": "https://localhost:8080/"
        },
        "id": "0Vpqo1EhC6x1",
        "outputId": "40f10a79-fc11-4404-b5dd-10e643228de2"
      },
      "execution_count": 18,
      "outputs": [
        {
          "output_type": "stream",
          "name": "stdout",
          "text": [
            "\n",
            " Generating and Saving Donor Projection Centrality Plots \n",
            "Saved 'projection_donor_degree.png'\n",
            "Saved 'projection_donor_betweenness.png'\n",
            "\n",
            " Analysis Complete \n"
          ]
        }
      ]
    }
  ]
}